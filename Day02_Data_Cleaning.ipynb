{
  "nbformat": 4,
  "nbformat_minor": 0,
  "metadata": {
    "colab": {
      "provenance": [],
      "authorship_tag": "ABX9TyNpamZMBkYAl9CA4SUREynu",
      "include_colab_link": true
    },
    "kernelspec": {
      "name": "python3",
      "display_name": "Python 3"
    },
    "language_info": {
      "name": "python"
    }
  },
  "cells": [
    {
      "cell_type": "markdown",
      "metadata": {
        "id": "view-in-github",
        "colab_type": "text"
      },
      "source": [
        "<a href=\"https://colab.research.google.com/github/Webalizeme/data-bootcamp/blob/main/Day02_Data_Cleaning.ipynb\" target=\"_parent\"><img src=\"https://colab.research.google.com/assets/colab-badge.svg\" alt=\"Open In Colab\"/></a>"
      ]
    },
    {
      "cell_type": "code",
      "execution_count": 1,
      "metadata": {
        "colab": {
          "base_uri": "https://localhost:8080/"
        },
        "id": "-hYSC-hrPkV9",
        "outputId": "00a9c092-5737-4ed0-f4d1-b52ae0ee9cd2"
      },
      "outputs": [
        {
          "output_type": "stream",
          "name": "stdout",
          "text": [
            "[1 2 3 4 5]\n",
            "Moyenne : 3.0\n",
            "Médiane : 3.0\n",
            "Écart-type : 1.4142135623730951\n"
          ]
        }
      ],
      "source": [
        "import numpy as np\n",
        "a = np.array([1,2,3,4,5])\n",
        "print(a)\n",
        "print(\"Moyenne :\", np.mean(a))\n",
        "print(\"Médiane :\", np.median(a))\n",
        "print(\"Écart-type :\", np.std(a))\n"
      ]
    },
    {
      "cell_type": "code",
      "source": [
        "import numpy as np\n",
        "a = np.array([12, 14, 9, 17, 10])\n",
        "print(a)\n",
        "print(\"Moyenne :\", np.mean(a))\n",
        "print(\"Médiane :\", np.median(a))\n",
        "print(\"Écart-type :\", np.std(a))\n"
      ],
      "metadata": {
        "colab": {
          "base_uri": "https://localhost:8080/"
        },
        "id": "ry4Epbc-WaOm",
        "outputId": "69e79406-c6dc-4ad1-bb75-9dca0b53f4e4"
      },
      "execution_count": 2,
      "outputs": [
        {
          "output_type": "stream",
          "name": "stdout",
          "text": [
            "[12 14  9 17 10]\n",
            "Moyenne : 12.4\n",
            "Médiane : 12.0\n",
            "Écart-type : 2.870540018881465\n"
          ]
        }
      ]
    },
    {
      "cell_type": "code",
      "source": [
        "import pandas as pd\n",
        "data = {\n",
        "    \"user_id\": [1, 2, 3, 4, 5],\n",
        "    \"age\": [23, np.nan, 31, 44, None],\n",
        "    \"visits\": [2, 5, None, 7, 3],\n",
        "\n",
        "\n",
        "}\n",
        "df = pd.DataFrame(data)\n",
        "print(df)\n",
        "df.isnull().sum()\n",
        "df[\"age\"].fillna(df[\"age\"].mean(), inplace=True)\n",
        "df[\"visits\"].fillna(0, inplace=True)\n",
        "\n",
        "\n"
      ],
      "metadata": {
        "colab": {
          "base_uri": "https://localhost:8080/"
        },
        "id": "0otBhwovXKM9",
        "outputId": "49a64128-e57e-4234-aae7-d655c4edb0cc"
      },
      "execution_count": 10,
      "outputs": [
        {
          "output_type": "stream",
          "name": "stdout",
          "text": [
            "   user_id   age  visits\n",
            "0        1  23.0     2.0\n",
            "1        2   NaN     5.0\n",
            "2        3  31.0     NaN\n",
            "3        4  44.0     7.0\n",
            "4        5   NaN     3.0\n"
          ]
        },
        {
          "output_type": "stream",
          "name": "stderr",
          "text": [
            "/tmp/ipython-input-701463156.py:12: FutureWarning: A value is trying to be set on a copy of a DataFrame or Series through chained assignment using an inplace method.\n",
            "The behavior will change in pandas 3.0. This inplace method will never work because the intermediate object on which we are setting values always behaves as a copy.\n",
            "\n",
            "For example, when doing 'df[col].method(value, inplace=True)', try using 'df.method({col: value}, inplace=True)' or df[col] = df[col].method(value) instead, to perform the operation inplace on the original object.\n",
            "\n",
            "\n",
            "  df[\"age\"].fillna(df[\"age\"].mean(), inplace=True)\n",
            "/tmp/ipython-input-701463156.py:13: FutureWarning: A value is trying to be set on a copy of a DataFrame or Series through chained assignment using an inplace method.\n",
            "The behavior will change in pandas 3.0. This inplace method will never work because the intermediate object on which we are setting values always behaves as a copy.\n",
            "\n",
            "For example, when doing 'df[col].method(value, inplace=True)', try using 'df.method({col: value}, inplace=True)' or df[col] = df[col].method(value) instead, to perform the operation inplace on the original object.\n",
            "\n",
            "\n",
            "  df[\"visits\"].fillna(0, inplace=True)\n"
          ]
        }
      ]
    },
    {
      "cell_type": "code",
      "source": [
        "import pandas as pd\n",
        "import numpy as np\n",
        "\n",
        "data = {\n",
        "    \"user_id\": [1, 2, 3, 4, 5],\n",
        "    \"age\": [23, np.nan, 31, 44, None],\n",
        "    \"visits\": [2, 5, None, 7, 3],\n",
        "}\n",
        "df = pd.DataFrame(data)\n",
        "print(df)\n",
        "df.isnull().sum()\n",
        "df[\"age\"].fillna(df[\"age\"].mean(), inplace=True)\n",
        "df[\"visits\"].fillna(0, inplace=True)\n",
        "\n",
        "# Create the visits_category column based on the visits column\n",
        "bins = [-np.inf, 3, 5, np.inf]\n",
        "labels = [\"low\", \"medium\", \"high\"]\n",
        "df[\"visits_category\"] = pd.cut(df[\"visits\"], bins=bins, labels=labels, right=False)\n",
        "\n",
        "print(df)"
      ],
      "metadata": {
        "colab": {
          "base_uri": "https://localhost:8080/"
        },
        "id": "L6jzR7_DgSwH",
        "outputId": "254ea5e0-467b-484d-9577-15745b2a5d9c"
      },
      "execution_count": 12,
      "outputs": [
        {
          "output_type": "stream",
          "name": "stdout",
          "text": [
            "   user_id   age  visits\n",
            "0        1  23.0     2.0\n",
            "1        2   NaN     5.0\n",
            "2        3  31.0     NaN\n",
            "3        4  44.0     7.0\n",
            "4        5   NaN     3.0\n",
            "   user_id        age  visits visits_category\n",
            "0        1  23.000000     2.0             low\n",
            "1        2  32.666667     5.0            high\n",
            "2        3  31.000000     0.0             low\n",
            "3        4  44.000000     7.0            high\n",
            "4        5  32.666667     3.0          medium\n"
          ]
        },
        {
          "output_type": "stream",
          "name": "stderr",
          "text": [
            "/tmp/ipython-input-3726531335.py:12: FutureWarning: A value is trying to be set on a copy of a DataFrame or Series through chained assignment using an inplace method.\n",
            "The behavior will change in pandas 3.0. This inplace method will never work because the intermediate object on which we are setting values always behaves as a copy.\n",
            "\n",
            "For example, when doing 'df[col].method(value, inplace=True)', try using 'df.method({col: value}, inplace=True)' or df[col] = df[col].method(value) instead, to perform the operation inplace on the original object.\n",
            "\n",
            "\n",
            "  df[\"age\"].fillna(df[\"age\"].mean(), inplace=True)\n",
            "/tmp/ipython-input-3726531335.py:13: FutureWarning: A value is trying to be set on a copy of a DataFrame or Series through chained assignment using an inplace method.\n",
            "The behavior will change in pandas 3.0. This inplace method will never work because the intermediate object on which we are setting values always behaves as a copy.\n",
            "\n",
            "For example, when doing 'df[col].method(value, inplace=True)', try using 'df.method({col: value}, inplace=True)' or df[col] = df[col].method(value) instead, to perform the operation inplace on the original object.\n",
            "\n",
            "\n",
            "  df[\"visits\"].fillna(0, inplace=True)\n"
          ]
        }
      ]
    },
    {
      "cell_type": "code",
      "source": [
        "#1. Chargement du dataset\n",
        "import seaborn as sns\n",
        "titanic = sns.load_dataset(\"titanic\")\n",
        "titanic.head()\n",
        "#2. Analyse\n",
        "titanic.info()\n",
        "titanic.describe()\n",
        "#3. Nettoyage\n",
        "titanic[\"age\"].fillna(titanic[\"age\"].mean(), inplace=True)\n",
        "titanic[\"embarked\"].fillna(\"Unknown\", inplace=True)\n",
        "#4. Filtrage\n",
        "adults = titanic[titanic[\"age\"] >= 18]\n",
        "adults.head()\n",
        "#5. Statistiques simples\n",
        "adults.groupby(\"sex\")[\"survived\"].mean()\n"
      ],
      "metadata": {
        "colab": {
          "base_uri": "https://localhost:8080/",
          "height": 841
        },
        "id": "2m5ugxYejURt",
        "outputId": "3738025c-0750-4bfd-aa9d-30050352aa3a"
      },
      "execution_count": 13,
      "outputs": [
        {
          "output_type": "stream",
          "name": "stdout",
          "text": [
            "<class 'pandas.core.frame.DataFrame'>\n",
            "RangeIndex: 891 entries, 0 to 890\n",
            "Data columns (total 15 columns):\n",
            " #   Column       Non-Null Count  Dtype   \n",
            "---  ------       --------------  -----   \n",
            " 0   survived     891 non-null    int64   \n",
            " 1   pclass       891 non-null    int64   \n",
            " 2   sex          891 non-null    object  \n",
            " 3   age          714 non-null    float64 \n",
            " 4   sibsp        891 non-null    int64   \n",
            " 5   parch        891 non-null    int64   \n",
            " 6   fare         891 non-null    float64 \n",
            " 7   embarked     889 non-null    object  \n",
            " 8   class        891 non-null    category\n",
            " 9   who          891 non-null    object  \n",
            " 10  adult_male   891 non-null    bool    \n",
            " 11  deck         203 non-null    category\n",
            " 12  embark_town  889 non-null    object  \n",
            " 13  alive        891 non-null    object  \n",
            " 14  alone        891 non-null    bool    \n",
            "dtypes: bool(2), category(2), float64(2), int64(4), object(5)\n",
            "memory usage: 80.7+ KB\n"
          ]
        },
        {
          "output_type": "stream",
          "name": "stderr",
          "text": [
            "/tmp/ipython-input-3036859495.py:9: FutureWarning: A value is trying to be set on a copy of a DataFrame or Series through chained assignment using an inplace method.\n",
            "The behavior will change in pandas 3.0. This inplace method will never work because the intermediate object on which we are setting values always behaves as a copy.\n",
            "\n",
            "For example, when doing 'df[col].method(value, inplace=True)', try using 'df.method({col: value}, inplace=True)' or df[col] = df[col].method(value) instead, to perform the operation inplace on the original object.\n",
            "\n",
            "\n",
            "  titanic[\"age\"].fillna(titanic[\"age\"].mean(), inplace=True)\n",
            "/tmp/ipython-input-3036859495.py:10: FutureWarning: A value is trying to be set on a copy of a DataFrame or Series through chained assignment using an inplace method.\n",
            "The behavior will change in pandas 3.0. This inplace method will never work because the intermediate object on which we are setting values always behaves as a copy.\n",
            "\n",
            "For example, when doing 'df[col].method(value, inplace=True)', try using 'df.method({col: value}, inplace=True)' or df[col] = df[col].method(value) instead, to perform the operation inplace on the original object.\n",
            "\n",
            "\n",
            "  titanic[\"embarked\"].fillna(\"Unknown\", inplace=True)\n"
          ]
        },
        {
          "output_type": "execute_result",
          "data": {
            "text/plain": [
              "sex\n",
              "female    0.752896\n",
              "male      0.165703\n",
              "Name: survived, dtype: float64"
            ],
            "text/html": [
              "<div>\n",
              "<style scoped>\n",
              "    .dataframe tbody tr th:only-of-type {\n",
              "        vertical-align: middle;\n",
              "    }\n",
              "\n",
              "    .dataframe tbody tr th {\n",
              "        vertical-align: top;\n",
              "    }\n",
              "\n",
              "    .dataframe thead th {\n",
              "        text-align: right;\n",
              "    }\n",
              "</style>\n",
              "<table border=\"1\" class=\"dataframe\">\n",
              "  <thead>\n",
              "    <tr style=\"text-align: right;\">\n",
              "      <th></th>\n",
              "      <th>survived</th>\n",
              "    </tr>\n",
              "    <tr>\n",
              "      <th>sex</th>\n",
              "      <th></th>\n",
              "    </tr>\n",
              "  </thead>\n",
              "  <tbody>\n",
              "    <tr>\n",
              "      <th>female</th>\n",
              "      <td>0.752896</td>\n",
              "    </tr>\n",
              "    <tr>\n",
              "      <th>male</th>\n",
              "      <td>0.165703</td>\n",
              "    </tr>\n",
              "  </tbody>\n",
              "</table>\n",
              "</div><br><label><b>dtype:</b> float64</label>"
            ]
          },
          "metadata": {},
          "execution_count": 13
        }
      ]
    },
    {
      "cell_type": "markdown",
      "source": [
        "Day - 2\n",
        "\n",
        "\n",
        "1. Comprendre NumPy et Pandas (les deux bibliothèques de base de toute data analyst/scientist)\n",
        "2. Apprendre à nettoyer des données\n",
        "1. Appliquer tout ça sur un mini-projet réel : Titanic dataset\n",
        "\n",
        "\n",
        "| Heure       | Module                             | Objectif                                                       |\n",
        "| :---------- | :--------------------------------- | :------------------------------------------------------------- |\n",
        "| 0h00 → 0h45 | **Partie 1 – NumPy**               | Comprendre les `arrays` et les calculs rapides                 |\n",
        "| 0h45 → 1h45 | **Partie 2 – Pandas**              | Nettoyer un tableau (DataFrame), gérer les données manquantes  |\n",
        "| 1h45 → 2h45 | **Partie 3 – Mini-projet Titanic** | Appliquer tout ce que tu viens d’apprendre sur un vrai dataset |\n",
        "| 2h45 → 3h00 | **Récap & push GitHub**            | Résumé + mise à jour de ton repo                               |\n",
        "\n",
        "\n",
        "\n",
        "\n",
        "\n"
      ],
      "metadata": {
        "id": "dg6ualNVmJMc"
      }
    }
  ]
}